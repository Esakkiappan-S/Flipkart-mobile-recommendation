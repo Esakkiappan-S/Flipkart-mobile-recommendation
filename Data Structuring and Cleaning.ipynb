{
 "cells": [
  {
   "cell_type": "code",
   "execution_count": 19,
   "id": "ce416ec4-bad6-4b22-b205-892410913824",
   "metadata": {},
   "outputs": [],
   "source": [
    "#Data Structuring and Cleaning\n",
    "import pandas as pd\n",
    "import re"
   ]
  },
  {
   "cell_type": "code",
   "execution_count": 2,
   "id": "af564e64-fbf6-4eab-85dc-115f7d697878",
   "metadata": {},
   "outputs": [],
   "source": [
    "# Data formatting(Removes duplicates,symbols)\n",
    "df = pd.read_csv(\"Flipkart_Mobile_Reviews.csv\")"
   ]
  },
  {
   "cell_type": "code",
   "execution_count": 3,
   "id": "85a022ff-f694-4374-b046-21f8f114b1dd",
   "metadata": {},
   "outputs": [
    {
     "data": {
      "text/html": [
       "<div>\n",
       "<style scoped>\n",
       "    .dataframe tbody tr th:only-of-type {\n",
       "        vertical-align: middle;\n",
       "    }\n",
       "\n",
       "    .dataframe tbody tr th {\n",
       "        vertical-align: top;\n",
       "    }\n",
       "\n",
       "    .dataframe thead th {\n",
       "        text-align: right;\n",
       "    }\n",
       "</style>\n",
       "<table border=\"1\" class=\"dataframe\">\n",
       "  <thead>\n",
       "    <tr style=\"text-align: right;\">\n",
       "      <th></th>\n",
       "      <th>Product_name</th>\n",
       "      <th>Product ID</th>\n",
       "      <th>Review Text</th>\n",
       "      <th>Rating</th>\n",
       "    </tr>\n",
       "  </thead>\n",
       "  <tbody>\n",
       "    <tr>\n",
       "      <th>0</th>\n",
       "      <td>SAMSUNG Galaxy A14 5G</td>\n",
       "      <td>MOBGHT8UUUNXNYZ4</td>\n",
       "      <td>Osm camera 🙃</td>\n",
       "      <td>4</td>\n",
       "    </tr>\n",
       "    <tr>\n",
       "      <th>1</th>\n",
       "      <td>SAMSUNG Galaxy A14 5G</td>\n",
       "      <td>MOBGHT8UUUNXNYZ4</td>\n",
       "      <td>Over All awesome 💖</td>\n",
       "      <td>5</td>\n",
       "    </tr>\n",
       "    <tr>\n",
       "      <th>2</th>\n",
       "      <td>SAMSUNG Galaxy A14 5G</td>\n",
       "      <td>MOBGHT8UUUNXNYZ4</td>\n",
       "      <td>Good! 🙂 Samsung Galaxy A14 5g!! (Dark Red 6/12...</td>\n",
       "      <td>5</td>\n",
       "    </tr>\n",
       "    <tr>\n",
       "      <th>3</th>\n",
       "      <td>SAMSUNG Galaxy A14 5G</td>\n",
       "      <td>MOBGHT8UUUNXNYZ4</td>\n",
       "      <td>Awesome 👍👍👍👌👌👌</td>\n",
       "      <td>5</td>\n",
       "    </tr>\n",
       "    <tr>\n",
       "      <th>4</th>\n",
       "      <td>SAMSUNG Galaxy A14 5G</td>\n",
       "      <td>MOBGHT8UUUNXNYZ4</td>\n",
       "      <td>Classy and minimal design is amazing. Performa...</td>\n",
       "      <td>5</td>\n",
       "    </tr>\n",
       "    <tr>\n",
       "      <th>...</th>\n",
       "      <td>...</td>\n",
       "      <td>...</td>\n",
       "      <td>...</td>\n",
       "      <td>...</td>\n",
       "    </tr>\n",
       "    <tr>\n",
       "      <th>445</th>\n",
       "      <td>realme P1 5G</td>\n",
       "      <td>MOBGYQ6BEHHQ9H7X</td>\n",
       "      <td>Battary- 4/5\\nProsser- 4/5\\nDisplay - 5/5\\nPea...</td>\n",
       "      <td>5</td>\n",
       "    </tr>\n",
       "    <tr>\n",
       "      <th>446</th>\n",
       "      <td>realme P1 5G</td>\n",
       "      <td>MOBGYQ6BEHHQ9H7X</td>\n",
       "      <td>Realme p1 good phone📱\\nVery good👍👍</td>\n",
       "      <td>5</td>\n",
       "    </tr>\n",
       "    <tr>\n",
       "      <th>447</th>\n",
       "      <td>realme P1 5G</td>\n",
       "      <td>MOBGYQ6BEHHQ9H7X</td>\n",
       "      <td>Bast phone for price</td>\n",
       "      <td>5</td>\n",
       "    </tr>\n",
       "    <tr>\n",
       "      <th>448</th>\n",
       "      <td>realme P1 5G</td>\n",
       "      <td>MOBGYQ6BEHHQ9H7X</td>\n",
       "      <td>Good Profmece\\nCamera average\\nBattery🔋 good\\n...</td>\n",
       "      <td>5</td>\n",
       "    </tr>\n",
       "    <tr>\n",
       "      <th>449</th>\n",
       "      <td>realme P1 5G</td>\n",
       "      <td>MOBGYQ6BEHHQ9H7X</td>\n",
       "      <td>Phone is very good. Fast charge. Best performa...</td>\n",
       "      <td>5</td>\n",
       "    </tr>\n",
       "  </tbody>\n",
       "</table>\n",
       "<p>450 rows × 4 columns</p>\n",
       "</div>"
      ],
      "text/plain": [
       "              Product_name        Product ID  \\\n",
       "0    SAMSUNG Galaxy A14 5G  MOBGHT8UUUNXNYZ4   \n",
       "1    SAMSUNG Galaxy A14 5G  MOBGHT8UUUNXNYZ4   \n",
       "2    SAMSUNG Galaxy A14 5G  MOBGHT8UUUNXNYZ4   \n",
       "3    SAMSUNG Galaxy A14 5G  MOBGHT8UUUNXNYZ4   \n",
       "4    SAMSUNG Galaxy A14 5G  MOBGHT8UUUNXNYZ4   \n",
       "..                     ...               ...   \n",
       "445           realme P1 5G  MOBGYQ6BEHHQ9H7X   \n",
       "446           realme P1 5G  MOBGYQ6BEHHQ9H7X   \n",
       "447           realme P1 5G  MOBGYQ6BEHHQ9H7X   \n",
       "448           realme P1 5G  MOBGYQ6BEHHQ9H7X   \n",
       "449           realme P1 5G  MOBGYQ6BEHHQ9H7X   \n",
       "\n",
       "                                           Review Text  Rating  \n",
       "0                                         Osm camera 🙃       4  \n",
       "1                                   Over All awesome 💖       5  \n",
       "2    Good! 🙂 Samsung Galaxy A14 5g!! (Dark Red 6/12...       5  \n",
       "3                                       Awesome 👍👍👍👌👌👌       5  \n",
       "4    Classy and minimal design is amazing. Performa...       5  \n",
       "..                                                 ...     ...  \n",
       "445  Battary- 4/5\\nProsser- 4/5\\nDisplay - 5/5\\nPea...       5  \n",
       "446                 Realme p1 good phone📱\\nVery good👍👍       5  \n",
       "447                               Bast phone for price       5  \n",
       "448  Good Profmece\\nCamera average\\nBattery🔋 good\\n...       5  \n",
       "449  Phone is very good. Fast charge. Best performa...       5  \n",
       "\n",
       "[450 rows x 4 columns]"
      ]
     },
     "execution_count": 3,
     "metadata": {},
     "output_type": "execute_result"
    }
   ],
   "source": [
    "df"
   ]
  },
  {
   "cell_type": "code",
   "execution_count": 4,
   "id": "6720ca12-4727-449f-8a21-a92068e813ac",
   "metadata": {},
   "outputs": [
    {
     "name": "stdout",
     "output_type": "stream",
     "text": [
      "<class 'pandas.core.frame.DataFrame'>\n",
      "RangeIndex: 450 entries, 0 to 449\n",
      "Data columns (total 4 columns):\n",
      " #   Column        Non-Null Count  Dtype \n",
      "---  ------        --------------  ----- \n",
      " 0   Product_name  450 non-null    object\n",
      " 1   Product ID    450 non-null    object\n",
      " 2   Review Text   450 non-null    object\n",
      " 3   Rating        450 non-null    int64 \n",
      "dtypes: int64(1), object(3)\n",
      "memory usage: 14.2+ KB\n"
     ]
    }
   ],
   "source": [
    "# Checking the count of rows & Columns, column type\n",
    "df.info()"
   ]
  },
  {
   "cell_type": "code",
   "execution_count": 5,
   "id": "95e6a376-61ab-443c-9289-1302525d6f72",
   "metadata": {},
   "outputs": [
    {
     "data": {
      "text/plain": [
       "Product_name    0\n",
       "Product ID      0\n",
       "Review Text     0\n",
       "Rating          0\n",
       "dtype: int64"
      ]
     },
     "execution_count": 5,
     "metadata": {},
     "output_type": "execute_result"
    }
   ],
   "source": [
    "#Checking null values\n",
    "df.isna().sum()"
   ]
  },
  {
   "cell_type": "code",
   "execution_count": 6,
   "id": "de0376b4-a22d-4564-b3c1-ab1b6562c804",
   "metadata": {},
   "outputs": [
    {
     "data": {
      "text/plain": [
       "14"
      ]
     },
     "execution_count": 6,
     "metadata": {},
     "output_type": "execute_result"
    }
   ],
   "source": [
    "#Checking sum of duplicate values\n",
    "df.duplicated().sum()"
   ]
  },
  {
   "cell_type": "code",
   "execution_count": 7,
   "id": "a8742e07-e023-43a5-9548-4c7118b7af6e",
   "metadata": {},
   "outputs": [
    {
     "data": {
      "text/plain": [
       "35"
      ]
     },
     "execution_count": 7,
     "metadata": {},
     "output_type": "execute_result"
    }
   ],
   "source": [
    "# Need to check duplicate values only in Review_Text. Because other than Review Text columns are not to be unique\n",
    "duplicate_values = df[\"Review Text\"].duplicated().sum()\n",
    "duplicate_values"
   ]
  },
  {
   "cell_type": "code",
   "execution_count": 8,
   "id": "d60f8d5e-fd89-4ff8-9e9b-9b389fbb8b03",
   "metadata": {},
   "outputs": [
    {
     "data": {
      "text/html": [
       "<div>\n",
       "<style scoped>\n",
       "    .dataframe tbody tr th:only-of-type {\n",
       "        vertical-align: middle;\n",
       "    }\n",
       "\n",
       "    .dataframe tbody tr th {\n",
       "        vertical-align: top;\n",
       "    }\n",
       "\n",
       "    .dataframe thead th {\n",
       "        text-align: right;\n",
       "    }\n",
       "</style>\n",
       "<table border=\"1\" class=\"dataframe\">\n",
       "  <thead>\n",
       "    <tr style=\"text-align: right;\">\n",
       "      <th></th>\n",
       "      <th>Product_name</th>\n",
       "      <th>Product ID</th>\n",
       "      <th>Review Text</th>\n",
       "      <th>Rating</th>\n",
       "    </tr>\n",
       "  </thead>\n",
       "  <tbody>\n",
       "    <tr>\n",
       "      <th>0</th>\n",
       "      <td>SAMSUNG Galaxy A14 5G</td>\n",
       "      <td>MOBGHT8UUUNXNYZ4</td>\n",
       "      <td>Osm camera 🙃</td>\n",
       "      <td>4</td>\n",
       "    </tr>\n",
       "    <tr>\n",
       "      <th>1</th>\n",
       "      <td>SAMSUNG Galaxy A14 5G</td>\n",
       "      <td>MOBGHT8UUUNXNYZ4</td>\n",
       "      <td>Over All awesome 💖</td>\n",
       "      <td>5</td>\n",
       "    </tr>\n",
       "    <tr>\n",
       "      <th>2</th>\n",
       "      <td>SAMSUNG Galaxy A14 5G</td>\n",
       "      <td>MOBGHT8UUUNXNYZ4</td>\n",
       "      <td>Good! 🙂 Samsung Galaxy A14 5g!! (Dark Red 6/12...</td>\n",
       "      <td>5</td>\n",
       "    </tr>\n",
       "    <tr>\n",
       "      <th>3</th>\n",
       "      <td>SAMSUNG Galaxy A14 5G</td>\n",
       "      <td>MOBGHT8UUUNXNYZ4</td>\n",
       "      <td>Awesome 👍👍👍👌👌👌</td>\n",
       "      <td>5</td>\n",
       "    </tr>\n",
       "    <tr>\n",
       "      <th>4</th>\n",
       "      <td>SAMSUNG Galaxy A14 5G</td>\n",
       "      <td>MOBGHT8UUUNXNYZ4</td>\n",
       "      <td>Classy and minimal design is amazing. Performa...</td>\n",
       "      <td>5</td>\n",
       "    </tr>\n",
       "  </tbody>\n",
       "</table>\n",
       "</div>"
      ],
      "text/plain": [
       "            Product_name        Product ID  \\\n",
       "0  SAMSUNG Galaxy A14 5G  MOBGHT8UUUNXNYZ4   \n",
       "1  SAMSUNG Galaxy A14 5G  MOBGHT8UUUNXNYZ4   \n",
       "2  SAMSUNG Galaxy A14 5G  MOBGHT8UUUNXNYZ4   \n",
       "3  SAMSUNG Galaxy A14 5G  MOBGHT8UUUNXNYZ4   \n",
       "4  SAMSUNG Galaxy A14 5G  MOBGHT8UUUNXNYZ4   \n",
       "\n",
       "                                         Review Text  Rating  \n",
       "0                                       Osm camera 🙃       4  \n",
       "1                                 Over All awesome 💖       5  \n",
       "2  Good! 🙂 Samsung Galaxy A14 5g!! (Dark Red 6/12...       5  \n",
       "3                                     Awesome 👍👍👍👌👌👌       5  \n",
       "4  Classy and minimal design is amazing. Performa...       5  "
      ]
     },
     "execution_count": 8,
     "metadata": {},
     "output_type": "execute_result"
    }
   ],
   "source": [
    "# Need to remove special characters(Emojis) from the data set\n",
    "df.head()"
   ]
  },
  {
   "cell_type": "code",
   "execution_count": 9,
   "id": "75e0112a-9081-4790-8907-754e4fa8fa59",
   "metadata": {},
   "outputs": [
    {
     "name": "stdout",
     "output_type": "stream",
     "text": [
      "Requirement already satisfied: emoji in c:\\users\\elcot\\anacon\\lib\\site-packages (1.7.0)\n"
     ]
    },
    {
     "data": {
      "text/html": [
       "<div>\n",
       "<style scoped>\n",
       "    .dataframe tbody tr th:only-of-type {\n",
       "        vertical-align: middle;\n",
       "    }\n",
       "\n",
       "    .dataframe tbody tr th {\n",
       "        vertical-align: top;\n",
       "    }\n",
       "\n",
       "    .dataframe thead th {\n",
       "        text-align: right;\n",
       "    }\n",
       "</style>\n",
       "<table border=\"1\" class=\"dataframe\">\n",
       "  <thead>\n",
       "    <tr style=\"text-align: right;\">\n",
       "      <th></th>\n",
       "      <th>Product_name</th>\n",
       "      <th>Product ID</th>\n",
       "      <th>Review Text</th>\n",
       "      <th>Rating</th>\n",
       "    </tr>\n",
       "  </thead>\n",
       "  <tbody>\n",
       "    <tr>\n",
       "      <th>0</th>\n",
       "      <td>SAMSUNG Galaxy A14 5G</td>\n",
       "      <td>MOBGHT8UUUNXNYZ4</td>\n",
       "      <td>Osm camera</td>\n",
       "      <td>4</td>\n",
       "    </tr>\n",
       "    <tr>\n",
       "      <th>1</th>\n",
       "      <td>SAMSUNG Galaxy A14 5G</td>\n",
       "      <td>MOBGHT8UUUNXNYZ4</td>\n",
       "      <td>Over All awesome</td>\n",
       "      <td>5</td>\n",
       "    </tr>\n",
       "    <tr>\n",
       "      <th>2</th>\n",
       "      <td>SAMSUNG Galaxy A14 5G</td>\n",
       "      <td>MOBGHT8UUUNXNYZ4</td>\n",
       "      <td>Good!  Samsung Galaxy A14 5g!! (Dark Red 6/128...</td>\n",
       "      <td>5</td>\n",
       "    </tr>\n",
       "    <tr>\n",
       "      <th>3</th>\n",
       "      <td>SAMSUNG Galaxy A14 5G</td>\n",
       "      <td>MOBGHT8UUUNXNYZ4</td>\n",
       "      <td>Awesome</td>\n",
       "      <td>5</td>\n",
       "    </tr>\n",
       "    <tr>\n",
       "      <th>4</th>\n",
       "      <td>SAMSUNG Galaxy A14 5G</td>\n",
       "      <td>MOBGHT8UUUNXNYZ4</td>\n",
       "      <td>Classy and minimal design is amazing. Performa...</td>\n",
       "      <td>5</td>\n",
       "    </tr>\n",
       "  </tbody>\n",
       "</table>\n",
       "</div>"
      ],
      "text/plain": [
       "            Product_name        Product ID  \\\n",
       "0  SAMSUNG Galaxy A14 5G  MOBGHT8UUUNXNYZ4   \n",
       "1  SAMSUNG Galaxy A14 5G  MOBGHT8UUUNXNYZ4   \n",
       "2  SAMSUNG Galaxy A14 5G  MOBGHT8UUUNXNYZ4   \n",
       "3  SAMSUNG Galaxy A14 5G  MOBGHT8UUUNXNYZ4   \n",
       "4  SAMSUNG Galaxy A14 5G  MOBGHT8UUUNXNYZ4   \n",
       "\n",
       "                                         Review Text  Rating  \n",
       "0                                        Osm camera        4  \n",
       "1                                  Over All awesome        5  \n",
       "2  Good!  Samsung Galaxy A14 5g!! (Dark Red 6/128...       5  \n",
       "3                                           Awesome        5  \n",
       "4  Classy and minimal design is amazing. Performa...       5  "
      ]
     },
     "execution_count": 9,
     "metadata": {},
     "output_type": "execute_result"
    }
   ],
   "source": [
    "# Revmove the emojis from the dataset in the column Review Text by the module \"emoji\"\n",
    "!pip install emoji\n",
    "import emoji\n",
    "df[\"Review Text\"] = df[\"Review Text\"].apply(lambda x: emoji.replace_emoji(x,\"\"))\n",
    "df.head()"
   ]
  },
  {
   "cell_type": "code",
   "execution_count": 10,
   "id": "224e7e8c-586a-4f6d-bbdc-b0355aada5ab",
   "metadata": {},
   "outputs": [
    {
     "data": {
      "text/plain": [
       "Rating\n",
       "5    262\n",
       "4    149\n",
       "3     36\n",
       "2      3\n",
       "Name: count, dtype: int64"
      ]
     },
     "execution_count": 10,
     "metadata": {},
     "output_type": "execute_result"
    }
   ],
   "source": [
    "df.Rating.value_counts()"
   ]
  },
  {
   "cell_type": "code",
   "execution_count": 11,
   "id": "5808e200-779f-4396-aa2d-ef10523e6137",
   "metadata": {},
   "outputs": [],
   "source": [
    "#Treating blank spaces in the column Review Text\n",
    "df[\"Review Text\"]= df[\"Review Text\"].replace(\"  \",\"\")"
   ]
  },
  {
   "cell_type": "code",
   "execution_count": 12,
   "id": "e0184489-354c-4ec8-bc60-304a8e89b5d6",
   "metadata": {},
   "outputs": [],
   "source": [
    "# Remove special characters\n",
    "def clean_text(text):\n",
    "    text = text.replace('\\\\', ' ')  # Replace backslashes\n",
    "    text = text.replace('\\n', ' ')  # Replace newline characters\n",
    "    text = text.replace('\\n\\n', ' ')  # Replace multiple newlines\n",
    "    return text.strip()"
   ]
  },
  {
   "cell_type": "code",
   "execution_count": 49,
   "id": "0535c555-5cd1-4c0a-aef5-f7f22ff66f88",
   "metadata": {},
   "outputs": [
    {
     "data": {
      "text/plain": [
       "0                                                                                                                                                                                             Osm camera\n",
       "1                                                                                                                                                                                       Over All awesome\n",
       "2      Good!  Samsung Galaxy A14 5g!! (Dark Red 6/128)  ...Display is nice.  Charger not available for fast charging you have to spend ano 1.5k..they gave C to C type cable  overall fine model!＼(^_^)／\n",
       "3                                                                                                                                                                                                Awesome\n",
       "4                                                                     Classy and minimal design is amazing. Performance is also good.  #A good phone in this price range with latest interface upgrades.\n",
       "                                                                                                     ...                                                                                                \n",
       "445                                                                                           Battary- 4/5 Prosser- 4/5 Display - 5/5 Peacock green design is very good. Charging- 5/5 Performance - 5/5\n",
       "446                                                                                                                                                                       Realme p1 good phone Very good\n",
       "447                                                                                                                                                                                 Bast phone for price\n",
       "448                                                                                                                                                    Good Profmece Camera average Battery good Display\n",
       "449                                                                                                                               Phone is very good. Fast charge. Best performance. Good looking phone.\n",
       "Name: Review Text, Length: 450, dtype: object"
      ]
     },
     "execution_count": 49,
     "metadata": {},
     "output_type": "execute_result"
    }
   ],
   "source": [
    "df[\"Review Text\"]=df[\"Review Text\"].apply(clean_text)\n",
    "df[\"Review Text\"]"
   ]
  },
  {
   "cell_type": "code",
   "execution_count": 50,
   "id": "e5f75693-be18-419b-b2e9-54c79d8ea98b",
   "metadata": {},
   "outputs": [],
   "source": [
    "# Remove special characters to get rid of (-,/,\\,[])\n",
    "def clear_sym(text):\n",
    "    sym = re.findall(r'\\W',text)\n",
    "    return sym"
   ]
  },
  {
   "cell_type": "code",
   "execution_count": 59,
   "id": "90fd26a1-3752-4299-b678-7ae8f5a2715e",
   "metadata": {},
   "outputs": [],
   "source": [
    "df[\"Review_symbols\"]=df[\"Review Text\"].apply(lambda x:clear_sym(x))\n",
    "df.drop(\"Review_symbols\",axis=1,inplace= True)"
   ]
  },
  {
   "cell_type": "code",
   "execution_count": 60,
   "id": "a24f0a4a-236e-4dc2-b1fb-b9ae85cd7e65",
   "metadata": {},
   "outputs": [
    {
     "data": {
      "text/html": [
       "<div>\n",
       "<style scoped>\n",
       "    .dataframe tbody tr th:only-of-type {\n",
       "        vertical-align: middle;\n",
       "    }\n",
       "\n",
       "    .dataframe tbody tr th {\n",
       "        vertical-align: top;\n",
       "    }\n",
       "\n",
       "    .dataframe thead th {\n",
       "        text-align: right;\n",
       "    }\n",
       "</style>\n",
       "<table border=\"1\" class=\"dataframe\">\n",
       "  <thead>\n",
       "    <tr style=\"text-align: right;\">\n",
       "      <th></th>\n",
       "      <th>Product_name</th>\n",
       "      <th>Product ID</th>\n",
       "      <th>Review Text</th>\n",
       "      <th>Rating</th>\n",
       "    </tr>\n",
       "  </thead>\n",
       "  <tbody>\n",
       "    <tr>\n",
       "      <th>0</th>\n",
       "      <td>SAMSUNG Galaxy A14 5G</td>\n",
       "      <td>MOBGHT8UUUNXNYZ4</td>\n",
       "      <td>Osm camera</td>\n",
       "      <td>4</td>\n",
       "    </tr>\n",
       "    <tr>\n",
       "      <th>1</th>\n",
       "      <td>SAMSUNG Galaxy A14 5G</td>\n",
       "      <td>MOBGHT8UUUNXNYZ4</td>\n",
       "      <td>Over All awesome</td>\n",
       "      <td>5</td>\n",
       "    </tr>\n",
       "    <tr>\n",
       "      <th>2</th>\n",
       "      <td>SAMSUNG Galaxy A14 5G</td>\n",
       "      <td>MOBGHT8UUUNXNYZ4</td>\n",
       "      <td>Good!  Samsung Galaxy A14 5g!! (Dark Red 6/128)  ...Display is nice.  Charger not available for fast charging you have to spend ano 1.5k..they gave C to C type cable  overall fine model!＼(^_^)／</td>\n",
       "      <td>5</td>\n",
       "    </tr>\n",
       "    <tr>\n",
       "      <th>3</th>\n",
       "      <td>SAMSUNG Galaxy A14 5G</td>\n",
       "      <td>MOBGHT8UUUNXNYZ4</td>\n",
       "      <td>Awesome</td>\n",
       "      <td>5</td>\n",
       "    </tr>\n",
       "    <tr>\n",
       "      <th>4</th>\n",
       "      <td>SAMSUNG Galaxy A14 5G</td>\n",
       "      <td>MOBGHT8UUUNXNYZ4</td>\n",
       "      <td>Classy and minimal design is amazing. Performance is also good.  #A good phone in this price range with latest interface upgrades.</td>\n",
       "      <td>5</td>\n",
       "    </tr>\n",
       "  </tbody>\n",
       "</table>\n",
       "</div>"
      ],
      "text/plain": [
       "            Product_name        Product ID  \\\n",
       "0  SAMSUNG Galaxy A14 5G  MOBGHT8UUUNXNYZ4   \n",
       "1  SAMSUNG Galaxy A14 5G  MOBGHT8UUUNXNYZ4   \n",
       "2  SAMSUNG Galaxy A14 5G  MOBGHT8UUUNXNYZ4   \n",
       "3  SAMSUNG Galaxy A14 5G  MOBGHT8UUUNXNYZ4   \n",
       "4  SAMSUNG Galaxy A14 5G  MOBGHT8UUUNXNYZ4   \n",
       "\n",
       "                                                                                                                                                                                         Review Text  \\\n",
       "0                                                                                                                                                                                         Osm camera   \n",
       "1                                                                                                                                                                                   Over All awesome   \n",
       "2  Good!  Samsung Galaxy A14 5g!! (Dark Red 6/128)  ...Display is nice.  Charger not available for fast charging you have to spend ano 1.5k..they gave C to C type cable  overall fine model!＼(^_^)／   \n",
       "3                                                                                                                                                                                            Awesome   \n",
       "4                                                                 Classy and minimal design is amazing. Performance is also good.  #A good phone in this price range with latest interface upgrades.   \n",
       "\n",
       "   Rating  \n",
       "0       4  \n",
       "1       5  \n",
       "2       5  \n",
       "3       5  \n",
       "4       5  "
      ]
     },
     "execution_count": 60,
     "metadata": {},
     "output_type": "execute_result"
    }
   ],
   "source": [
    "df.head()"
   ]
  },
  {
   "cell_type": "code",
   "execution_count": 80,
   "id": "6379710e-3899-410d-b78b-25cabb2cf8bc",
   "metadata": {},
   "outputs": [],
   "source": [
    "def clear(text):\n",
    "    special_char = re.sub(r\"\\W\\s\",\" \",text)\n",
    "    return special_char"
   ]
  },
  {
   "cell_type": "code",
   "execution_count": 81,
   "id": "22a41f86-2521-4e77-bf76-71d1ebea0acb",
   "metadata": {},
   "outputs": [],
   "source": [
    "df[\"Review Text\"]=df[\"Review Text\"].apply(lambda x:clear(x))"
   ]
  },
  {
   "cell_type": "code",
   "execution_count": 82,
   "id": "da78ec72-70bb-4622-bed9-e0a01354ae5a",
   "metadata": {},
   "outputs": [
    {
     "data": {
      "text/plain": [
       "'Good  Samsung Galaxy A14 5g  Dark Red 6 128   Display is nice  Charger not available for fast charging you have to spend ano 1 5k they gave C to C type cable overall fine model  _  '"
      ]
     },
     "execution_count": 82,
     "metadata": {},
     "output_type": "execute_result"
    }
   ],
   "source": [
    "df[\"Review Text\"][2]"
   ]
  },
  {
   "cell_type": "code",
   "execution_count": 83,
   "id": "b20703c7-09f6-46fe-ac66-3ada9084078e",
   "metadata": {},
   "outputs": [
    {
     "data": {
      "text/html": [
       "<div>\n",
       "<style scoped>\n",
       "    .dataframe tbody tr th:only-of-type {\n",
       "        vertical-align: middle;\n",
       "    }\n",
       "\n",
       "    .dataframe tbody tr th {\n",
       "        vertical-align: top;\n",
       "    }\n",
       "\n",
       "    .dataframe thead th {\n",
       "        text-align: right;\n",
       "    }\n",
       "</style>\n",
       "<table border=\"1\" class=\"dataframe\">\n",
       "  <thead>\n",
       "    <tr style=\"text-align: right;\">\n",
       "      <th></th>\n",
       "      <th>Product_name</th>\n",
       "      <th>Product ID</th>\n",
       "      <th>Review Text</th>\n",
       "      <th>Rating</th>\n",
       "    </tr>\n",
       "  </thead>\n",
       "  <tbody>\n",
       "    <tr>\n",
       "      <th>0</th>\n",
       "      <td>SAMSUNG Galaxy A14 5G</td>\n",
       "      <td>MOBGHT8UUUNXNYZ4</td>\n",
       "      <td>Osm camera</td>\n",
       "      <td>4</td>\n",
       "    </tr>\n",
       "    <tr>\n",
       "      <th>1</th>\n",
       "      <td>SAMSUNG Galaxy A14 5G</td>\n",
       "      <td>MOBGHT8UUUNXNYZ4</td>\n",
       "      <td>Over All awesome</td>\n",
       "      <td>5</td>\n",
       "    </tr>\n",
       "    <tr>\n",
       "      <th>2</th>\n",
       "      <td>SAMSUNG Galaxy A14 5G</td>\n",
       "      <td>MOBGHT8UUUNXNYZ4</td>\n",
       "      <td>Good  Samsung Galaxy A14 5g  Dark Red 6 128   Display is nice  Charger not available for fast charging you have to spend ano 1 5k they gave C to C type cable overall fine model  _</td>\n",
       "      <td>5</td>\n",
       "    </tr>\n",
       "    <tr>\n",
       "      <th>3</th>\n",
       "      <td>SAMSUNG Galaxy A14 5G</td>\n",
       "      <td>MOBGHT8UUUNXNYZ4</td>\n",
       "      <td>Awesome</td>\n",
       "      <td>5</td>\n",
       "    </tr>\n",
       "    <tr>\n",
       "      <th>4</th>\n",
       "      <td>SAMSUNG Galaxy A14 5G</td>\n",
       "      <td>MOBGHT8UUUNXNYZ4</td>\n",
       "      <td>Classy and minimal design is amazing Performance is also good  A good phone in this price range with latest interface upgrades</td>\n",
       "      <td>5</td>\n",
       "    </tr>\n",
       "    <tr>\n",
       "      <th>...</th>\n",
       "      <td>...</td>\n",
       "      <td>...</td>\n",
       "      <td>...</td>\n",
       "      <td>...</td>\n",
       "    </tr>\n",
       "    <tr>\n",
       "      <th>445</th>\n",
       "      <td>realme P1 5G</td>\n",
       "      <td>MOBGYQ6BEHHQ9H7X</td>\n",
       "      <td>Battary 4 5 Prosser 4 5 Display  5 5 Peacock green design is very good Charging 5 5 Performance  5 5</td>\n",
       "      <td>5</td>\n",
       "    </tr>\n",
       "    <tr>\n",
       "      <th>446</th>\n",
       "      <td>realme P1 5G</td>\n",
       "      <td>MOBGYQ6BEHHQ9H7X</td>\n",
       "      <td>Realme p1 good phone Very good</td>\n",
       "      <td>5</td>\n",
       "    </tr>\n",
       "    <tr>\n",
       "      <th>447</th>\n",
       "      <td>realme P1 5G</td>\n",
       "      <td>MOBGYQ6BEHHQ9H7X</td>\n",
       "      <td>Bast phone for price</td>\n",
       "      <td>5</td>\n",
       "    </tr>\n",
       "    <tr>\n",
       "      <th>448</th>\n",
       "      <td>realme P1 5G</td>\n",
       "      <td>MOBGYQ6BEHHQ9H7X</td>\n",
       "      <td>Good Profmece Camera average Battery good Display</td>\n",
       "      <td>5</td>\n",
       "    </tr>\n",
       "    <tr>\n",
       "      <th>449</th>\n",
       "      <td>realme P1 5G</td>\n",
       "      <td>MOBGYQ6BEHHQ9H7X</td>\n",
       "      <td>Phone is very good Fast charge Best performance Good looking phone</td>\n",
       "      <td>5</td>\n",
       "    </tr>\n",
       "  </tbody>\n",
       "</table>\n",
       "<p>450 rows × 4 columns</p>\n",
       "</div>"
      ],
      "text/plain": [
       "              Product_name        Product ID  \\\n",
       "0    SAMSUNG Galaxy A14 5G  MOBGHT8UUUNXNYZ4   \n",
       "1    SAMSUNG Galaxy A14 5G  MOBGHT8UUUNXNYZ4   \n",
       "2    SAMSUNG Galaxy A14 5G  MOBGHT8UUUNXNYZ4   \n",
       "3    SAMSUNG Galaxy A14 5G  MOBGHT8UUUNXNYZ4   \n",
       "4    SAMSUNG Galaxy A14 5G  MOBGHT8UUUNXNYZ4   \n",
       "..                     ...               ...   \n",
       "445           realme P1 5G  MOBGYQ6BEHHQ9H7X   \n",
       "446           realme P1 5G  MOBGYQ6BEHHQ9H7X   \n",
       "447           realme P1 5G  MOBGYQ6BEHHQ9H7X   \n",
       "448           realme P1 5G  MOBGYQ6BEHHQ9H7X   \n",
       "449           realme P1 5G  MOBGYQ6BEHHQ9H7X   \n",
       "\n",
       "                                                                                                                                                                               Review Text  \\\n",
       "0                                                                                                                                                                               Osm camera   \n",
       "1                                                                                                                                                                         Over All awesome   \n",
       "2    Good  Samsung Galaxy A14 5g  Dark Red 6 128   Display is nice  Charger not available for fast charging you have to spend ano 1 5k they gave C to C type cable overall fine model  _     \n",
       "3                                                                                                                                                                                  Awesome   \n",
       "4                                                          Classy and minimal design is amazing Performance is also good  A good phone in this price range with latest interface upgrades    \n",
       "..                                                                                                                                                                                     ...   \n",
       "445                                                                                   Battary 4 5 Prosser 4 5 Display  5 5 Peacock green design is very good Charging 5 5 Performance  5 5   \n",
       "446                                                                                                                                                         Realme p1 good phone Very good   \n",
       "447                                                                                                                                                                   Bast phone for price   \n",
       "448                                                                                                                                      Good Profmece Camera average Battery good Display   \n",
       "449                                                                                                                    Phone is very good Fast charge Best performance Good looking phone    \n",
       "\n",
       "     Rating  \n",
       "0         4  \n",
       "1         5  \n",
       "2         5  \n",
       "3         5  \n",
       "4         5  \n",
       "..      ...  \n",
       "445       5  \n",
       "446       5  \n",
       "447       5  \n",
       "448       5  \n",
       "449       5  \n",
       "\n",
       "[450 rows x 4 columns]"
      ]
     },
     "execution_count": 83,
     "metadata": {},
     "output_type": "execute_result"
    }
   ],
   "source": [
    "# Display all the rows with the maximum column width\n",
    "pd.set_option('display.max_colwidth', None)\n",
    "df"
   ]
  },
  {
   "cell_type": "code",
   "execution_count": 85,
   "id": "486d615b-fa4b-4bbf-80dc-4233b99ee5c7",
   "metadata": {},
   "outputs": [],
   "source": [
    "# Save the cleaned data to a new CSV file\n",
    "df.to_csv('Flipkart_cleaned_datas.csv', index=False)"
   ]
  },
  {
   "cell_type": "code",
   "execution_count": null,
   "id": "bad39205-2b46-44d4-b499-55a861d861b8",
   "metadata": {},
   "outputs": [],
   "source": []
  }
 ],
 "metadata": {
  "kernelspec": {
   "display_name": "Python 3 (ipykernel)",
   "language": "python",
   "name": "python3"
  },
  "language_info": {
   "codemirror_mode": {
    "name": "ipython",
    "version": 3
   },
   "file_extension": ".py",
   "mimetype": "text/x-python",
   "name": "python",
   "nbconvert_exporter": "python",
   "pygments_lexer": "ipython3",
   "version": "3.11.7"
  }
 },
 "nbformat": 4,
 "nbformat_minor": 5
}
